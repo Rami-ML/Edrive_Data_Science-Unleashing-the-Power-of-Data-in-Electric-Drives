{
 "cells": [
  {
   "cell_type": "code",
   "execution_count": 78,
   "id": "cecf55a7-c6d7-42ad-ad5d-79a4e2c21b6e",
   "metadata": {
    "tags": []
   },
   "outputs": [],
   "source": [
    "import torch\n",
    "import torch.nn as nn\n",
    "import torch.optim as optim\n",
    "from torch.utils.data import DataLoader, TensorDataset\n",
    "import numpy as np\n",
    "import scipy\n",
    "import scipy.io as sio"
   ]
  },
  {
   "cell_type": "code",
   "execution_count": 79,
   "id": "2f69f167-8626-48e1-8e8b-6e2da1203cde",
   "metadata": {
    "tags": []
   },
   "outputs": [],
   "source": [
    "# Create a synthetic dataset\n",
    "mat_data = scipy.io.loadmat('8000_2LVSI_passed_input_data_designs.mat')\n",
    "data = mat_data.get('input')\n",
    "data = torch.Tensor(data)"
   ]
  },
  {
   "cell_type": "code",
   "execution_count": 80,
   "id": "9080d1f4-d363-4e59-a0fc-73a07e1d4a19",
   "metadata": {},
   "outputs": [],
   "source": [
    "# Define a function to scale the data and save the scaling parameters\n",
    "def min_max_scaling(data):\n",
    "    # Calculate min and max values for each column\n",
    "    min_vals, _ = torch.min(data, dim=0)\n",
    "    max_vals, _ = torch.max(data, dim=0)\n",
    "    \n",
    "    # Perform min-max scaling\n",
    "    scaled_data = (data - min_vals) / (max_vals - min_vals)\n",
    "    \n",
    "    # Save the min and max values for each column\n",
    "    scaling_params = {'min_vals': min_vals, 'max_vals': max_vals}\n",
    "    \n",
    "    return scaled_data, scaling_params\n",
    "\n",
    "# Scale your data and get the scaling parameters\n",
    "scaled_data, scaling_params = min_max_scaling(data)\n",
    "\n",
    "# Save the scaling parameters to a file\n",
    "np.save('scaling_params_vae.npy', scaling_params)\n"
   ]
  },
  {
   "cell_type": "code",
   "execution_count": 81,
   "id": "3c0f2137-9f17-4aed-94a7-da012eaed4d8",
   "metadata": {},
   "outputs": [],
   "source": [
    "# Define the VAE architecture\n",
    "#model complexity\n",
    "class VAE(nn.Module):\n",
    "    def __init__(self, input_dim, latent_dim):\n",
    "        super(VAE, self).__init__()\n",
    "        \n",
    "        # Encoder\n",
    "        self.encoder = nn.Sequential(\n",
    "            nn.Linear(input_dim, 1024),\n",
    "            nn.ReLU(),\n",
    "            nn.Linear(1024, 512),\n",
    "            nn.ReLU(),\n",
    "            nn.Linear(512, 256),\n",
    "            nn.ReLU(),\n",
    "            nn.Linear(256, 128),\n",
    "            nn.ReLU(),\n",
    "        )\n",
    "        self.mu = nn.Linear(128, latent_dim)\n",
    "        self.logvar = nn.Linear(128, latent_dim)\n",
    "        \n",
    "        # Decoder\n",
    "        self.decoder = nn.Sequential(\n",
    "            nn.Linear(latent_dim, 128),\n",
    "            nn.ReLU(),\n",
    "            nn.Linear(128, 256),\n",
    "            nn.ReLU(),\n",
    "            nn.Linear(256, 512),\n",
    "            nn.ReLU(),\n",
    "            nn.Linear(512, 1024),\n",
    "            nn.ReLU(),\n",
    "            nn.Linear(1024, input_dim),\n",
    "        )\n",
    "    \n",
    "    def reparameterize(self, mu, logvar):\n",
    "        std = torch.exp(0.5*logvar)\n",
    "        eps = torch.randn_like(std)\n",
    "        return mu + eps*std\n",
    "    \n",
    "    def forward(self, x):\n",
    "        x = self.encoder(x)\n",
    "        mu = self.mu(x)\n",
    "        logvar = self.logvar(x)\n",
    "        z = self.reparameterize(mu, logvar)\n",
    "        x_hat = self.decoder(z)\n",
    "        return x_hat, mu, logvar"
   ]
  },
  {
   "cell_type": "code",
   "execution_count": 82,
   "id": "6e55e110-25d7-4e63-a986-b1f4069ad90a",
   "metadata": {},
   "outputs": [],
   "source": [
    "# Split the data into training and validation sets (e.g., 80% training, 20% validation)\n",
    "split_ratio = 0.8\n",
    "train_size = int(split_ratio * len(scaled_data))\n",
    "train_data, val_data = scaled_data[:train_size], scaled_data[train_size:]"
   ]
  },
  {
   "cell_type": "code",
   "execution_count": 88,
   "id": "3e10f129-d9e7-4dc8-ad9f-3bcae5551f12",
   "metadata": {
    "tags": []
   },
   "outputs": [
    {
     "name": "stdout",
     "output_type": "stream",
     "text": [
      "Epoch [1/1000], Training Loss: 0.8466, Validation Loss: 0.7638\n",
      "Epoch [2/1000], Training Loss: 0.5539, Validation Loss: 0.7563\n",
      "Epoch [3/1000], Training Loss: 0.5471, Validation Loss: 0.7495\n",
      "Epoch [4/1000], Training Loss: 0.5427, Validation Loss: 0.7527\n",
      "Epoch [5/1000], Training Loss: 0.5399, Validation Loss: 0.7571\n",
      "Epoch [6/1000], Training Loss: 0.5378, Validation Loss: 0.7476\n",
      "Epoch [7/1000], Training Loss: 0.5363, Validation Loss: 0.7484\n",
      "Epoch [8/1000], Training Loss: 0.5353, Validation Loss: 0.7392\n",
      "Epoch [9/1000], Training Loss: 0.5346, Validation Loss: 0.7437\n",
      "Epoch [10/1000], Training Loss: 0.5343, Validation Loss: 0.7430\n",
      "Epoch [11/1000], Training Loss: 0.5341, Validation Loss: 0.7466\n",
      "Epoch [12/1000], Training Loss: 0.5341, Validation Loss: 0.7401\n",
      "Epoch [13/1000], Training Loss: 0.5338, Validation Loss: 0.7528\n",
      "Epoch [14/1000], Training Loss: 0.5336, Validation Loss: 0.7447\n",
      "Epoch [15/1000], Training Loss: 0.5335, Validation Loss: 0.7356\n",
      "Epoch [16/1000], Training Loss: 0.5333, Validation Loss: 0.7424\n",
      "Epoch [17/1000], Training Loss: 0.5332, Validation Loss: 0.7466\n",
      "Epoch [18/1000], Training Loss: 0.5333, Validation Loss: 0.7402\n",
      "Epoch [19/1000], Training Loss: 0.5330, Validation Loss: 0.7328\n",
      "Epoch [20/1000], Training Loss: 0.5331, Validation Loss: 0.7335\n",
      "Epoch [21/1000], Training Loss: 0.5331, Validation Loss: 0.7495\n",
      "Epoch [22/1000], Training Loss: 0.5331, Validation Loss: 0.7564\n",
      "Epoch [23/1000], Training Loss: 0.5330, Validation Loss: 0.7414\n",
      "Epoch [24/1000], Training Loss: 0.5328, Validation Loss: 0.7463\n",
      "Epoch [25/1000], Training Loss: 0.5329, Validation Loss: 0.7461\n",
      "Epoch [26/1000], Training Loss: 0.5329, Validation Loss: 0.7496\n",
      "Epoch [27/1000], Training Loss: 0.5328, Validation Loss: 0.7338\n",
      "Epoch [28/1000], Training Loss: 0.5328, Validation Loss: 0.7424\n",
      "Epoch [29/1000], Training Loss: 0.5328, Validation Loss: 0.7484\n",
      "Epoch [30/1000], Training Loss: 0.5328, Validation Loss: 0.7358\n",
      "Epoch [31/1000], Training Loss: 0.5327, Validation Loss: 0.7388\n",
      "Epoch [32/1000], Training Loss: 0.5327, Validation Loss: 0.7405\n",
      "Epoch [33/1000], Training Loss: 0.5327, Validation Loss: 0.7365\n",
      "Epoch [34/1000], Training Loss: 0.5328, Validation Loss: 0.7371\n",
      "Epoch [35/1000], Training Loss: 0.5327, Validation Loss: 0.7489\n",
      "Epoch [36/1000], Training Loss: 0.5327, Validation Loss: 0.7392\n",
      "Epoch [37/1000], Training Loss: 0.5327, Validation Loss: 0.7412\n",
      "Epoch [38/1000], Training Loss: 0.5326, Validation Loss: 0.7381\n",
      "Epoch [39/1000], Training Loss: 0.5326, Validation Loss: 0.7438\n",
      "Early stopping after 39 epochs with no improvement in validation loss.\n"
     ]
    }
   ],
   "source": [
    "# Initialize the VAE\n",
    "input_dim = scaled_data.shape[1]\n",
    "latent_dim = 50 # You can adjust this as needed\n",
    "vae = VAE(input_dim, latent_dim)\n",
    "data_size = len(data)\n",
    "\n",
    "# Loss function\n",
    "def vae_loss(x_hat, x, mu, logvar):\n",
    "    recon_loss = nn.functional.mse_loss(x_hat, x, reduction='sum')\n",
    "    kl_divergence = -0.5 * torch.sum(1 + logvar - mu.pow(2) - logvar.exp())\n",
    "    return recon_loss + kl_divergence\n",
    "\n",
    "# Optimizer\n",
    "optimizer = optim.Adam(vae.parameters(), lr=0.00001)\n",
    "\n",
    "# Training loop\n",
    "num_epochs = 1000\n",
    "batch_size = 64\n",
    "early_stopping_patience = 20  # Number of epochs with no improvement to wait before stopping\n",
    "\n",
    "best_val_loss = float('inf')  # Initialize with a very large value\n",
    "no_improvement_count = 0  # Counter to track the number of epochs with no improvement\n",
    "\n",
    "for epoch in range(num_epochs):\n",
    "    dataloader = DataLoader(TensorDataset(train_data), batch_size=batch_size, shuffle=True)\n",
    "    total_loss = 0\n",
    "    \n",
    "    for batch in dataloader:\n",
    "        optimizer.zero_grad()\n",
    "        x = batch[0]\n",
    "        x_hat, mu, logvar = vae(x)\n",
    "        loss = vae_loss(x_hat, x, mu, logvar)\n",
    "        loss.backward()\n",
    "        optimizer.step()\n",
    "        total_loss += loss.item()\n",
    "    \n",
    "    # Calculate the average training loss for this epoch\n",
    "    avg_train_loss = total_loss / len(dataloader.dataset)\n",
    "    \n",
    "    # Compute validation loss\n",
    "    val_loss = 0\n",
    "    with torch.no_grad():\n",
    "        val_dataloader = DataLoader(TensorDataset(val_data), batch_size=batch_size)\n",
    "        for batch in val_dataloader:\n",
    "            x = batch[0]\n",
    "            x_hat, mu, logvar = vae(x)\n",
    "            loss = vae_loss(x_hat, x, mu, logvar)\n",
    "            val_loss += loss.item()\n",
    "    \n",
    "    # Calculate the average validation loss\n",
    "    avg_val_loss = val_loss / len(val_dataloader.dataset)\n",
    "    \n",
    "    print(f\"Epoch [{epoch + 1}/{num_epochs}], Training Loss: {avg_train_loss:.4f}, Validation Loss: {avg_val_loss:.4f}\")\n",
    "    \n",
    "    # Check if the current validation loss is the best so far\n",
    "    if avg_val_loss < best_val_loss:\n",
    "        best_val_loss = avg_val_loss\n",
    "        no_improvement_count = 0\n",
    "    else:\n",
    "        no_improvement_count += 1\n",
    "    \n",
    "    # Check if early stopping criteria are met\n",
    "    if no_improvement_count >= early_stopping_patience:\n",
    "        print(f\"Early stopping after {epoch + 1} epochs with no improvement in validation loss.\")\n",
    "        break"
   ]
  },
  {
   "cell_type": "code",
   "execution_count": 89,
   "id": "88312cb5-a0ec-47be-b149-4b7000dea13b",
   "metadata": {},
   "outputs": [
    {
     "name": "stdout",
     "output_type": "stream",
     "text": [
      "tensor([[0.6577, 0.5693, 0.5124,  ..., 0.6701, 0.4807, 0.3866],\n",
      "        [0.6752, 0.5988, 0.5207,  ..., 0.6859, 0.4818, 0.4084],\n",
      "        [0.6659, 0.5830, 0.4993,  ..., 0.6657, 0.4763, 0.3914],\n",
      "        ...,\n",
      "        [0.6551, 0.5759, 0.4964,  ..., 0.6527, 0.4665, 0.3828],\n",
      "        [0.6574, 0.5800, 0.5077,  ..., 0.6543, 0.4674, 0.3837],\n",
      "        [0.6478, 0.5678, 0.5039,  ..., 0.6494, 0.4593, 0.3797]])\n"
     ]
    }
   ],
   "source": [
    "num_samples = 1000000\n",
    " # Use the same latent dimension as your trained model\n",
    "# Generating new samples from the VAE\n",
    "vae.eval()\n",
    "with torch.no_grad():\n",
    "    z = torch.randn(num_samples, latent_dim)  # Generate 10 samples in the latent space\n",
    "    generated_data = vae.decoder(z)\n",
    "\n",
    "print(generated_data)"
   ]
  },
  {
   "cell_type": "code",
   "execution_count": null,
   "id": "dcd1767b-d6b6-414c-9f8c-57b73f7cce54",
   "metadata": {
    "tags": []
   },
   "outputs": [],
   "source": [
    "import numpy as np\n",
    "\n",
    "# Load the scaling parameters\n",
    "loaded_scaling_params = np.load('scaling_params_vae.npy', allow_pickle=True).item()\n",
    "\n",
    "# Scale back the generated data\n",
    "scaled_generated_data = (generated_data * (loaded_scaling_params['max_vals'] - loaded_scaling_params['min_vals'])) + loaded_scaling_params['min_vals']\n",
    "\n",
    "# Now, 'scaled_generated_data' contains your generated data in the original unscaled range.\n"
   ]
  },
  {
   "cell_type": "code",
   "execution_count": null,
   "id": "3877207b-a30d-4750-8026-289c173f85e6",
   "metadata": {
    "tags": []
   },
   "outputs": [
    {
     "name": "stdout",
     "output_type": "stream",
     "text": [
      "[[32.601345 19.42127  82.63575  ... 23.109585 27.072033 73.017784]\n",
      " [32.601345 19.42127  82.63575  ... 23.109585 27.072033 73.017784]\n",
      " [32.601345 19.42127  82.63575  ... 23.109585 27.072033 73.017784]\n",
      " ...\n",
      " [32.601345 19.42127  82.63575  ... 23.109585 27.072033 73.017784]\n",
      " [32.601345 19.42127  82.63575  ... 23.109585 27.072033 73.017784]\n",
      " [32.601345 19.42127  82.63575  ... 23.109585 27.072033 73.017784]]\n"
     ]
    }
   ],
   "source": [
    "print(original_generated_data.numpy())"
   ]
  },
  {
   "cell_type": "code",
   "execution_count": null,
   "id": "18ccd94b-b31c-401b-a5b9-c1ec8d5a7231",
   "metadata": {
    "tags": []
   },
   "outputs": [],
   "source": [
    "sio.savemat('VAE_2LVSI_generated_data.mat', {'vae_input': original_data.numpy()})"
   ]
  },
  {
   "cell_type": "code",
   "execution_count": null,
   "id": "6db80973-122c-4e8e-85ae-154232e2ae38",
   "metadata": {},
   "outputs": [],
   "source": []
  }
 ],
 "metadata": {
  "availableInstances": [
   {
    "_defaultOrder": 0,
    "_isFastLaunch": true,
    "category": "General purpose",
    "gpuNum": 0,
    "hideHardwareSpecs": false,
    "memoryGiB": 4,
    "name": "ml.t3.medium",
    "vcpuNum": 2
   },
   {
    "_defaultOrder": 1,
    "_isFastLaunch": false,
    "category": "General purpose",
    "gpuNum": 0,
    "hideHardwareSpecs": false,
    "memoryGiB": 8,
    "name": "ml.t3.large",
    "vcpuNum": 2
   },
   {
    "_defaultOrder": 2,
    "_isFastLaunch": false,
    "category": "General purpose",
    "gpuNum": 0,
    "hideHardwareSpecs": false,
    "memoryGiB": 16,
    "name": "ml.t3.xlarge",
    "vcpuNum": 4
   },
   {
    "_defaultOrder": 3,
    "_isFastLaunch": false,
    "category": "General purpose",
    "gpuNum": 0,
    "hideHardwareSpecs": false,
    "memoryGiB": 32,
    "name": "ml.t3.2xlarge",
    "vcpuNum": 8
   },
   {
    "_defaultOrder": 4,
    "_isFastLaunch": true,
    "category": "General purpose",
    "gpuNum": 0,
    "hideHardwareSpecs": false,
    "memoryGiB": 8,
    "name": "ml.m5.large",
    "vcpuNum": 2
   },
   {
    "_defaultOrder": 5,
    "_isFastLaunch": false,
    "category": "General purpose",
    "gpuNum": 0,
    "hideHardwareSpecs": false,
    "memoryGiB": 16,
    "name": "ml.m5.xlarge",
    "vcpuNum": 4
   },
   {
    "_defaultOrder": 6,
    "_isFastLaunch": false,
    "category": "General purpose",
    "gpuNum": 0,
    "hideHardwareSpecs": false,
    "memoryGiB": 32,
    "name": "ml.m5.2xlarge",
    "vcpuNum": 8
   },
   {
    "_defaultOrder": 7,
    "_isFastLaunch": false,
    "category": "General purpose",
    "gpuNum": 0,
    "hideHardwareSpecs": false,
    "memoryGiB": 64,
    "name": "ml.m5.4xlarge",
    "vcpuNum": 16
   },
   {
    "_defaultOrder": 8,
    "_isFastLaunch": false,
    "category": "General purpose",
    "gpuNum": 0,
    "hideHardwareSpecs": false,
    "memoryGiB": 128,
    "name": "ml.m5.8xlarge",
    "vcpuNum": 32
   },
   {
    "_defaultOrder": 9,
    "_isFastLaunch": false,
    "category": "General purpose",
    "gpuNum": 0,
    "hideHardwareSpecs": false,
    "memoryGiB": 192,
    "name": "ml.m5.12xlarge",
    "vcpuNum": 48
   },
   {
    "_defaultOrder": 10,
    "_isFastLaunch": false,
    "category": "General purpose",
    "gpuNum": 0,
    "hideHardwareSpecs": false,
    "memoryGiB": 256,
    "name": "ml.m5.16xlarge",
    "vcpuNum": 64
   },
   {
    "_defaultOrder": 11,
    "_isFastLaunch": false,
    "category": "General purpose",
    "gpuNum": 0,
    "hideHardwareSpecs": false,
    "memoryGiB": 384,
    "name": "ml.m5.24xlarge",
    "vcpuNum": 96
   },
   {
    "_defaultOrder": 12,
    "_isFastLaunch": false,
    "category": "General purpose",
    "gpuNum": 0,
    "hideHardwareSpecs": false,
    "memoryGiB": 8,
    "name": "ml.m5d.large",
    "vcpuNum": 2
   },
   {
    "_defaultOrder": 13,
    "_isFastLaunch": false,
    "category": "General purpose",
    "gpuNum": 0,
    "hideHardwareSpecs": false,
    "memoryGiB": 16,
    "name": "ml.m5d.xlarge",
    "vcpuNum": 4
   },
   {
    "_defaultOrder": 14,
    "_isFastLaunch": false,
    "category": "General purpose",
    "gpuNum": 0,
    "hideHardwareSpecs": false,
    "memoryGiB": 32,
    "name": "ml.m5d.2xlarge",
    "vcpuNum": 8
   },
   {
    "_defaultOrder": 15,
    "_isFastLaunch": false,
    "category": "General purpose",
    "gpuNum": 0,
    "hideHardwareSpecs": false,
    "memoryGiB": 64,
    "name": "ml.m5d.4xlarge",
    "vcpuNum": 16
   },
   {
    "_defaultOrder": 16,
    "_isFastLaunch": false,
    "category": "General purpose",
    "gpuNum": 0,
    "hideHardwareSpecs": false,
    "memoryGiB": 128,
    "name": "ml.m5d.8xlarge",
    "vcpuNum": 32
   },
   {
    "_defaultOrder": 17,
    "_isFastLaunch": false,
    "category": "General purpose",
    "gpuNum": 0,
    "hideHardwareSpecs": false,
    "memoryGiB": 192,
    "name": "ml.m5d.12xlarge",
    "vcpuNum": 48
   },
   {
    "_defaultOrder": 18,
    "_isFastLaunch": false,
    "category": "General purpose",
    "gpuNum": 0,
    "hideHardwareSpecs": false,
    "memoryGiB": 256,
    "name": "ml.m5d.16xlarge",
    "vcpuNum": 64
   },
   {
    "_defaultOrder": 19,
    "_isFastLaunch": false,
    "category": "General purpose",
    "gpuNum": 0,
    "hideHardwareSpecs": false,
    "memoryGiB": 384,
    "name": "ml.m5d.24xlarge",
    "vcpuNum": 96
   },
   {
    "_defaultOrder": 20,
    "_isFastLaunch": false,
    "category": "General purpose",
    "gpuNum": 0,
    "hideHardwareSpecs": true,
    "memoryGiB": 0,
    "name": "ml.geospatial.interactive",
    "supportedImageNames": [
     "sagemaker-geospatial-v1-0"
    ],
    "vcpuNum": 0
   },
   {
    "_defaultOrder": 21,
    "_isFastLaunch": true,
    "category": "Compute optimized",
    "gpuNum": 0,
    "hideHardwareSpecs": false,
    "memoryGiB": 4,
    "name": "ml.c5.large",
    "vcpuNum": 2
   },
   {
    "_defaultOrder": 22,
    "_isFastLaunch": false,
    "category": "Compute optimized",
    "gpuNum": 0,
    "hideHardwareSpecs": false,
    "memoryGiB": 8,
    "name": "ml.c5.xlarge",
    "vcpuNum": 4
   },
   {
    "_defaultOrder": 23,
    "_isFastLaunch": false,
    "category": "Compute optimized",
    "gpuNum": 0,
    "hideHardwareSpecs": false,
    "memoryGiB": 16,
    "name": "ml.c5.2xlarge",
    "vcpuNum": 8
   },
   {
    "_defaultOrder": 24,
    "_isFastLaunch": false,
    "category": "Compute optimized",
    "gpuNum": 0,
    "hideHardwareSpecs": false,
    "memoryGiB": 32,
    "name": "ml.c5.4xlarge",
    "vcpuNum": 16
   },
   {
    "_defaultOrder": 25,
    "_isFastLaunch": false,
    "category": "Compute optimized",
    "gpuNum": 0,
    "hideHardwareSpecs": false,
    "memoryGiB": 72,
    "name": "ml.c5.9xlarge",
    "vcpuNum": 36
   },
   {
    "_defaultOrder": 26,
    "_isFastLaunch": false,
    "category": "Compute optimized",
    "gpuNum": 0,
    "hideHardwareSpecs": false,
    "memoryGiB": 96,
    "name": "ml.c5.12xlarge",
    "vcpuNum": 48
   },
   {
    "_defaultOrder": 27,
    "_isFastLaunch": false,
    "category": "Compute optimized",
    "gpuNum": 0,
    "hideHardwareSpecs": false,
    "memoryGiB": 144,
    "name": "ml.c5.18xlarge",
    "vcpuNum": 72
   },
   {
    "_defaultOrder": 28,
    "_isFastLaunch": false,
    "category": "Compute optimized",
    "gpuNum": 0,
    "hideHardwareSpecs": false,
    "memoryGiB": 192,
    "name": "ml.c5.24xlarge",
    "vcpuNum": 96
   },
   {
    "_defaultOrder": 29,
    "_isFastLaunch": true,
    "category": "Accelerated computing",
    "gpuNum": 1,
    "hideHardwareSpecs": false,
    "memoryGiB": 16,
    "name": "ml.g4dn.xlarge",
    "vcpuNum": 4
   },
   {
    "_defaultOrder": 30,
    "_isFastLaunch": false,
    "category": "Accelerated computing",
    "gpuNum": 1,
    "hideHardwareSpecs": false,
    "memoryGiB": 32,
    "name": "ml.g4dn.2xlarge",
    "vcpuNum": 8
   },
   {
    "_defaultOrder": 31,
    "_isFastLaunch": false,
    "category": "Accelerated computing",
    "gpuNum": 1,
    "hideHardwareSpecs": false,
    "memoryGiB": 64,
    "name": "ml.g4dn.4xlarge",
    "vcpuNum": 16
   },
   {
    "_defaultOrder": 32,
    "_isFastLaunch": false,
    "category": "Accelerated computing",
    "gpuNum": 1,
    "hideHardwareSpecs": false,
    "memoryGiB": 128,
    "name": "ml.g4dn.8xlarge",
    "vcpuNum": 32
   },
   {
    "_defaultOrder": 33,
    "_isFastLaunch": false,
    "category": "Accelerated computing",
    "gpuNum": 4,
    "hideHardwareSpecs": false,
    "memoryGiB": 192,
    "name": "ml.g4dn.12xlarge",
    "vcpuNum": 48
   },
   {
    "_defaultOrder": 34,
    "_isFastLaunch": false,
    "category": "Accelerated computing",
    "gpuNum": 1,
    "hideHardwareSpecs": false,
    "memoryGiB": 256,
    "name": "ml.g4dn.16xlarge",
    "vcpuNum": 64
   },
   {
    "_defaultOrder": 35,
    "_isFastLaunch": false,
    "category": "Accelerated computing",
    "gpuNum": 1,
    "hideHardwareSpecs": false,
    "memoryGiB": 61,
    "name": "ml.p3.2xlarge",
    "vcpuNum": 8
   },
   {
    "_defaultOrder": 36,
    "_isFastLaunch": false,
    "category": "Accelerated computing",
    "gpuNum": 4,
    "hideHardwareSpecs": false,
    "memoryGiB": 244,
    "name": "ml.p3.8xlarge",
    "vcpuNum": 32
   },
   {
    "_defaultOrder": 37,
    "_isFastLaunch": false,
    "category": "Accelerated computing",
    "gpuNum": 8,
    "hideHardwareSpecs": false,
    "memoryGiB": 488,
    "name": "ml.p3.16xlarge",
    "vcpuNum": 64
   },
   {
    "_defaultOrder": 38,
    "_isFastLaunch": false,
    "category": "Accelerated computing",
    "gpuNum": 8,
    "hideHardwareSpecs": false,
    "memoryGiB": 768,
    "name": "ml.p3dn.24xlarge",
    "vcpuNum": 96
   },
   {
    "_defaultOrder": 39,
    "_isFastLaunch": false,
    "category": "Memory Optimized",
    "gpuNum": 0,
    "hideHardwareSpecs": false,
    "memoryGiB": 16,
    "name": "ml.r5.large",
    "vcpuNum": 2
   },
   {
    "_defaultOrder": 40,
    "_isFastLaunch": false,
    "category": "Memory Optimized",
    "gpuNum": 0,
    "hideHardwareSpecs": false,
    "memoryGiB": 32,
    "name": "ml.r5.xlarge",
    "vcpuNum": 4
   },
   {
    "_defaultOrder": 41,
    "_isFastLaunch": false,
    "category": "Memory Optimized",
    "gpuNum": 0,
    "hideHardwareSpecs": false,
    "memoryGiB": 64,
    "name": "ml.r5.2xlarge",
    "vcpuNum": 8
   },
   {
    "_defaultOrder": 42,
    "_isFastLaunch": false,
    "category": "Memory Optimized",
    "gpuNum": 0,
    "hideHardwareSpecs": false,
    "memoryGiB": 128,
    "name": "ml.r5.4xlarge",
    "vcpuNum": 16
   },
   {
    "_defaultOrder": 43,
    "_isFastLaunch": false,
    "category": "Memory Optimized",
    "gpuNum": 0,
    "hideHardwareSpecs": false,
    "memoryGiB": 256,
    "name": "ml.r5.8xlarge",
    "vcpuNum": 32
   },
   {
    "_defaultOrder": 44,
    "_isFastLaunch": false,
    "category": "Memory Optimized",
    "gpuNum": 0,
    "hideHardwareSpecs": false,
    "memoryGiB": 384,
    "name": "ml.r5.12xlarge",
    "vcpuNum": 48
   },
   {
    "_defaultOrder": 45,
    "_isFastLaunch": false,
    "category": "Memory Optimized",
    "gpuNum": 0,
    "hideHardwareSpecs": false,
    "memoryGiB": 512,
    "name": "ml.r5.16xlarge",
    "vcpuNum": 64
   },
   {
    "_defaultOrder": 46,
    "_isFastLaunch": false,
    "category": "Memory Optimized",
    "gpuNum": 0,
    "hideHardwareSpecs": false,
    "memoryGiB": 768,
    "name": "ml.r5.24xlarge",
    "vcpuNum": 96
   },
   {
    "_defaultOrder": 47,
    "_isFastLaunch": false,
    "category": "Accelerated computing",
    "gpuNum": 1,
    "hideHardwareSpecs": false,
    "memoryGiB": 16,
    "name": "ml.g5.xlarge",
    "vcpuNum": 4
   },
   {
    "_defaultOrder": 48,
    "_isFastLaunch": false,
    "category": "Accelerated computing",
    "gpuNum": 1,
    "hideHardwareSpecs": false,
    "memoryGiB": 32,
    "name": "ml.g5.2xlarge",
    "vcpuNum": 8
   },
   {
    "_defaultOrder": 49,
    "_isFastLaunch": false,
    "category": "Accelerated computing",
    "gpuNum": 1,
    "hideHardwareSpecs": false,
    "memoryGiB": 64,
    "name": "ml.g5.4xlarge",
    "vcpuNum": 16
   },
   {
    "_defaultOrder": 50,
    "_isFastLaunch": false,
    "category": "Accelerated computing",
    "gpuNum": 1,
    "hideHardwareSpecs": false,
    "memoryGiB": 128,
    "name": "ml.g5.8xlarge",
    "vcpuNum": 32
   },
   {
    "_defaultOrder": 51,
    "_isFastLaunch": false,
    "category": "Accelerated computing",
    "gpuNum": 1,
    "hideHardwareSpecs": false,
    "memoryGiB": 256,
    "name": "ml.g5.16xlarge",
    "vcpuNum": 64
   },
   {
    "_defaultOrder": 52,
    "_isFastLaunch": false,
    "category": "Accelerated computing",
    "gpuNum": 4,
    "hideHardwareSpecs": false,
    "memoryGiB": 192,
    "name": "ml.g5.12xlarge",
    "vcpuNum": 48
   },
   {
    "_defaultOrder": 53,
    "_isFastLaunch": false,
    "category": "Accelerated computing",
    "gpuNum": 4,
    "hideHardwareSpecs": false,
    "memoryGiB": 384,
    "name": "ml.g5.24xlarge",
    "vcpuNum": 96
   },
   {
    "_defaultOrder": 54,
    "_isFastLaunch": false,
    "category": "Accelerated computing",
    "gpuNum": 8,
    "hideHardwareSpecs": false,
    "memoryGiB": 768,
    "name": "ml.g5.48xlarge",
    "vcpuNum": 192
   },
   {
    "_defaultOrder": 55,
    "_isFastLaunch": false,
    "category": "Accelerated computing",
    "gpuNum": 8,
    "hideHardwareSpecs": false,
    "memoryGiB": 1152,
    "name": "ml.p4d.24xlarge",
    "vcpuNum": 96
   },
   {
    "_defaultOrder": 56,
    "_isFastLaunch": false,
    "category": "Accelerated computing",
    "gpuNum": 8,
    "hideHardwareSpecs": false,
    "memoryGiB": 1152,
    "name": "ml.p4de.24xlarge",
    "vcpuNum": 96
   }
  ],
  "instance_type": "ml.m5.24xlarge",
  "kernelspec": {
   "display_name": "Python 3 (PyTorch 2.0.0 Python 3.10 GPU Optimized)",
   "language": "python",
   "name": "python3__SAGEMAKER_INTERNAL__arn:aws:sagemaker:eu-central-1:936697816551:image/pytorch-2.0.0-gpu-py310"
  },
  "language_info": {
   "codemirror_mode": {
    "name": "ipython",
    "version": 3
   },
   "file_extension": ".py",
   "mimetype": "text/x-python",
   "name": "python",
   "nbconvert_exporter": "python",
   "pygments_lexer": "ipython3",
   "version": "3.10.8"
  }
 },
 "nbformat": 4,
 "nbformat_minor": 5
}
