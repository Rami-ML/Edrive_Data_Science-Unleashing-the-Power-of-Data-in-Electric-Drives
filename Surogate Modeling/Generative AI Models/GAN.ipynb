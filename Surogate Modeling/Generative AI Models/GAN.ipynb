{
 "cells": [
  {
   "cell_type": "code",
   "execution_count": 129,
   "id": "b73a19b3-5bcc-4cfe-ac0f-1b8504c5b33b",
   "metadata": {},
   "outputs": [],
   "source": [
    "import torch\n",
    "import torch.nn as nn\n",
    "import torch.optim as optim\n",
    "import numpy as np\n",
    "from torchvision.models import inception_v3\n",
    "from scipy.stats import entropy\n",
    "import scipy"
   ]
  },
  {
   "cell_type": "code",
   "execution_count": 130,
   "id": "2a402af8-ad23-4557-af6e-05a0bbda3c38",
   "metadata": {},
   "outputs": [],
   "source": [
    "# Create a synthetic dataset\n",
    "mat_data = scipy.io.loadmat('8000_2LVSI_passed_input_data_designs.mat')\n",
    "data = mat_data.get('input')\n",
    "data = torch.Tensor(data)"
   ]
  },
  {
   "cell_type": "code",
   "execution_count": 156,
   "id": "dc1c25e8-9254-4c2f-8baf-fcb8aa231401",
   "metadata": {},
   "outputs": [
    {
     "name": "stdout",
     "output_type": "stream",
     "text": [
      "tensor([[0.5918, 0.4000, 0.1362,  ..., 0.3108, 0.8667, 0.0000],\n",
      "        [0.6327, 0.6400, 0.7387,  ..., 0.4408, 0.9333, 0.0000],\n",
      "        [0.1633, 0.4800, 0.5078,  ..., 0.5360, 0.1333, 0.0000],\n",
      "        ...,\n",
      "        [0.6939, 0.9600, 0.7001,  ..., 0.5698, 0.2000, 1.0000],\n",
      "        [0.8776, 0.9200, 0.4463,  ..., 0.8887, 0.1333, 1.0000],\n",
      "        [0.1020, 0.7200, 0.9685,  ..., 0.4474, 0.4667, 1.0000]])\n"
     ]
    }
   ],
   "source": [
    "# Define a function to scale the data and save the scaling parameters\n",
    "def min_max_scaling(data):\n",
    "    # Calculate min and max values for each column\n",
    "    min_vals, _ = torch.min(data, dim=0)\n",
    "    max_vals, _ = torch.max(data, dim=0)\n",
    "    \n",
    "    # Perform min-max scaling\n",
    "    scaled_data = (data - min_vals) / (max_vals - min_vals)\n",
    "    \n",
    "    # Save the min and max values for each column\n",
    "    scaling_params = {'min_vals': min_vals, 'max_vals': max_vals}\n",
    "    \n",
    "    return scaled_data, scaling_params\n",
    "\n",
    "# Scale your data and get the scaling parameters\n",
    "scaled_data, scaling_params = min_max_scaling(data)\n",
    "print(scaled_data)\n",
    "# Save the scaling parameters to a file\n",
    "np.save('scaling_params.npy', scaling_params)\n",
    "\n",
    "# To reproduce the scaling later (e.g., when generating data):\n",
    "# Load the scaling parameters\n",
    "#loaded_scaling_params = np.load('scaling_params.npy', allow_pickle=True).item()\n",
    "\n",
    "# Scale the data back to its original range\n",
    "#original_data = scaled_data * (loaded_scaling_params['max_vals'] - loaded_scaling_params['min_vals']) + loaded_scaling_params['min_vals']"
   ]
  },
  {
   "cell_type": "code",
   "execution_count": 132,
   "id": "5c6e0174-3431-4390-be50-028f5d542f1b",
   "metadata": {},
   "outputs": [],
   "source": [
    "# Define the Generator class\n",
    "class Generator(nn.Module):\n",
    "    def __init__(self, latent_dim, data_dim):\n",
    "        super(Generator, self).__init__()\n",
    "        self.latent_dim = latent_dim\n",
    "        self.data_dim = data_dim\n",
    "        self.model = nn.Sequential(\n",
    "            nn.Linear(latent_dim, 128),\n",
    "            nn.BatchNorm1d(128),\n",
    "            nn.ReLU(),\n",
    "            nn.Linear(128, 256),\n",
    "            nn.BatchNorm1d(256),\n",
    "            nn.ReLU(),\n",
    "            nn.Linear(256, 512),\n",
    "            nn.BatchNorm1d(512),\n",
    "            nn.ReLU(),\n",
    "            nn.Linear(512, data_dim)  # No Sigmoid activation here\n",
    "        )\n",
    "\n",
    "    def forward(self, z):\n",
    "        return self.model(z)\n",
    "\n",
    "# Define the Discriminator class\n",
    "class Discriminator(nn.Module):\n",
    "    def __init__(self, data_dim):\n",
    "        super(Discriminator, self).__init__()\n",
    "        self.data_dim = data_dim\n",
    "        self.model = nn.Sequential(\n",
    "            nn.Linear(data_dim, 512),\n",
    "            nn.ReLU(),\n",
    "            nn.Linear(512, 256),\n",
    "            nn.ReLU(),\n",
    "            nn.Linear(256, 128),\n",
    "            nn.ReLU(),\n",
    "            nn.Linear(128, 1),\n",
    "            nn.Sigmoid()\n",
    "        )\n",
    "\n",
    "    def forward(self, x):\n",
    "        return self.model(x)"
   ]
  },
  {
   "cell_type": "code",
   "execution_count": 155,
   "id": "73965cd0-6275-4261-ab7f-d2e980d97a16",
   "metadata": {},
   "outputs": [
    {
     "name": "stdout",
     "output_type": "stream",
     "text": [
      "Epoch [1000/12000], Loss_D: 1.2390, Loss_G: 0.8789\n",
      "Epoch [2000/12000], Loss_D: 1.4200, Loss_G: 0.7337\n",
      "Epoch [3000/12000], Loss_D: 1.3842, Loss_G: 0.7026\n",
      "Epoch [4000/12000], Loss_D: 1.3914, Loss_G: 0.6955\n",
      "Epoch [5000/12000], Loss_D: 1.4084, Loss_G: 0.6963\n",
      "Epoch [6000/12000], Loss_D: 1.4442, Loss_G: 0.6714\n",
      "Epoch [7000/12000], Loss_D: 1.2826, Loss_G: 0.6904\n",
      "Epoch [8000/12000], Loss_D: 1.3920, Loss_G: 0.7006\n",
      "Epoch [9000/12000], Loss_D: 1.6495, Loss_G: 0.5838\n",
      "Epoch [10000/12000], Loss_D: 1.3533, Loss_G: 2.1340\n",
      "Epoch [11000/12000], Loss_D: 1.2974, Loss_G: 0.7541\n",
      "Epoch [12000/12000], Loss_D: 1.0671, Loss_G: 0.9647\n"
     ]
    }
   ],
   "source": [
    "# ... (Define Generator and Discriminator as before) ...\n",
    "data_dim = scaled_data.shape[1]\n",
    "latent_dim = 5 # You can adjust this as needed\n",
    "# Initialize the Generator and Discriminator\n",
    "generator = Generator(latent_dim, data_dim)\n",
    "discriminator = Discriminator(data_dim)\n",
    "device = torch.device(\"cuda\" if torch.cuda.is_available() else \"cpu\")\n",
    "\n",
    "# Define the loss function and optimizers\n",
    "criterion = nn.BCELoss()  # Binary Cross-Entropy Loss\n",
    "optimizer_G = optim.Adam(generator.parameters(), lr=0.0003)\n",
    "optimizer_D = optim.Adam(discriminator.parameters(), lr=0.0003)\n",
    "\n",
    "# Load a pre-trained Inception v3 model (used for inception score)\n",
    "inception_model = inception_v3(pretrained=True, transform_input=False)\n",
    "inception_model.eval()\n",
    "\n",
    "# Training loop\n",
    "num_epochs = 12000\n",
    "batch_size = 64\n",
    "\n",
    "for epoch in range(num_epochs):\n",
    "    # Train the Discriminator\n",
    "    for _ in range(1):\n",
    "        optimizer_D.zero_grad()\n",
    "        \n",
    "        # You should use scaled_data here instead of real_data\n",
    "        real_data = scaled_data[torch.randperm(len(scaled_data))][:batch_size].to(device)\n",
    "        # real_data = real_data.to(device)  # Remove this line\n",
    "        \n",
    "        # Generate fake data from the Generator\n",
    "        z = torch.randn(batch_size, latent_dim).to(device)\n",
    "        fake_data = generator(z)\n",
    "        \n",
    "        # You should scale the fake_data to match the scaled_data range\n",
    "        fake_data = fake_data * (scaled_data.max(0)[0] - scaled_data.min(0)[0]) + scaled_data.min(0)[0]\n",
    "        \n",
    "        # Calculate the loss for real and fake data\n",
    "        real_labels = torch.ones(batch_size, 1).to(device)\n",
    "        fake_labels = torch.zeros(batch_size, 1).to(device)\n",
    "        \n",
    "        output_real = discriminator(real_data)\n",
    "        output_fake = discriminator(fake_data.detach())\n",
    "        \n",
    "        loss_real = criterion(output_real, real_labels)\n",
    "        loss_fake = criterion(output_fake, fake_labels)\n",
    "        \n",
    "        loss_D = loss_real + loss_fake\n",
    "        loss_D.backward()\n",
    "        optimizer_D.step()\n",
    "    \n",
    "    # Train the Generator\n",
    "    optimizer_G.zero_grad()\n",
    "    \n",
    "    z = torch.randn(batch_size, latent_dim).to(device)\n",
    "    fake_data = generator(z)\n",
    "    \n",
    "    # You should scale the fake_data to match the scaled_data range\n",
    "    fake_data = fake_data * (scaled_data.max(0)[0] - scaled_data.min(0)[0]) + scaled_data.min(0)[0]\n",
    "    \n",
    "    output_fake = discriminator(fake_data)\n",
    "    \n",
    "    loss_G = criterion(output_fake, real_labels)\n",
    "    loss_G.backward()\n",
    "    optimizer_G.step()\n",
    "    \n",
    "    if (epoch + 1) % 1000 == 0:\n",
    "        print(f\"Epoch [{epoch + 1}/{num_epochs}], Loss_D: {loss_D.item():.4f}, Loss_G: {loss_G.item():.4f}\")"
   ]
  },
  {
   "cell_type": "code",
   "execution_count": 157,
   "id": "ca98d6e7-fdc0-4693-8f1a-879395df186f",
   "metadata": {
    "tags": []
   },
   "outputs": [
    {
     "name": "stdout",
     "output_type": "stream",
     "text": [
      "tensor([[ 0.5553,  0.1604, -0.0019,  ...,  0.7763,  0.6165,  0.7628],\n",
      "        [ 0.9449,  0.5639,  0.9340,  ...,  1.0188,  0.4706,  0.7386],\n",
      "        [ 0.9247,  0.4971,  0.9829,  ...,  1.0235,  0.5762,  0.7356],\n",
      "        ...,\n",
      "        [ 0.7152,  0.5058,  0.8644,  ...,  0.9219,  0.4789,  0.9849],\n",
      "        [ 0.8547,  0.6960,  0.7316,  ...,  0.7296,  0.4897,  0.4097],\n",
      "        [ 0.8549,  0.4276,  0.0546,  ...,  0.8377,  1.0275,  0.7192]])\n"
     ]
    }
   ],
   "source": [
    "# Generating new samples from the GAN\n",
    "generator.eval()\n",
    "with torch.no_grad():\n",
    "    z = torch.randn(1000000, latent_dim)  # Generate 500,000 samples in the latent space\n",
    "    generated_data = generator(z)\n",
    "\n",
    "print(generated_data)"
   ]
  },
  {
   "cell_type": "code",
   "execution_count": 161,
   "id": "046fe112-6cb5-4219-876c-2312d62e0057",
   "metadata": {},
   "outputs": [],
   "source": [
    "import numpy as np\n",
    "\n",
    "# Load the scaling parameters\n",
    "loaded_scaling_params = np.load('scaling_params_vae.npy', allow_pickle=True).item()\n",
    "\n",
    "# Scale back the generated data\n",
    "original_generated_data = (generated_data * (loaded_scaling_params['max_vals'] - loaded_scaling_params['min_vals'])) + loaded_scaling_params['min_vals']\n",
    "# Assuming original_generated_data is your generated data after scaling back\n",
    "\n",
    "# Assuming you have generated_data as your generated data with shape (num_samples, num_features)\n",
    "# and column 8 is the one you want to adjust\n",
    "\n",
    "## Convert the PyTorch tensor to a NumPy array\n",
    "original_generated_data_np = original_generated_data.numpy()\n",
    "\n",
    "# Round columns 3, 4, and 6 to 2 decimal places\n",
    "original_generated_data_np[:, [2, 3, 5]] = np.round(original_generated_data_np[:, [2, 3, 5]], 2)\n",
    "\n",
    "# Round column 4 to 4 decimal places\n",
    "original_generated_data_np[:, 4] = np.round(original_generated_data_np[:, 4], 4)\n",
    "\n",
    "# Convert columns 1, 2, 7, and 8 to integers\n",
    "original_generated_data_np[:, [0, 1, 6, 7]] = original_generated_data_np[:, [0, 1, 6, 7]].astype(int)\n",
    "\n",
    "# Sort the rows based on column 8 (assuming column 8 is your label)\n",
    "sorted_indices = np.argsort(original_generated_data_np[:, 7])\n",
    "sorted_data_np = original_generated_data_np[sorted_indices]"
   ]
  },
  {
   "cell_type": "code",
   "execution_count": 162,
   "id": "d32cae62-542e-44be-a320-727621fe1933",
   "metadata": {
    "tags": []
   },
   "outputs": [
    {
     "name": "stdout",
     "output_type": "stream",
     "text": [
      "[[ 39.    16.    71.78 ...  20.69  26.    -9.  ]\n",
      " [ 43.    17.    85.57 ...  22.32  27.    -7.  ]\n",
      " [ 43.    17.    87.05 ...  22.35  27.    -6.  ]\n",
      " ...\n",
      " [ 62.     1.    20.4  ...  42.46  23.   331.  ]\n",
      " [ 65.     1.    20.45 ...  43.56  24.   333.  ]\n",
      " [ 70.     0.    25.2  ...  46.17  25.   358.  ]]\n"
     ]
    }
   ],
   "source": [
    "print(sorted_data_np)"
   ]
  },
  {
   "cell_type": "code",
   "execution_count": 153,
   "id": "9a477416-3ef4-4a0a-91a3-ad4ddda1f676",
   "metadata": {
    "tags": []
   },
   "outputs": [],
   "source": [
    "import scipy.io as sio\n",
    "sio.savemat('GAN_2LVSI_generated_data.mat', {'gan_input': original_generated_data.numpy()})"
   ]
  },
  {
   "cell_type": "code",
   "execution_count": null,
   "id": "6b7114c9-3f35-485e-ae69-183aa2341134",
   "metadata": {},
   "outputs": [],
   "source": []
  }
 ],
 "metadata": {
  "availableInstances": [
   {
    "_defaultOrder": 0,
    "_isFastLaunch": true,
    "category": "General purpose",
    "gpuNum": 0,
    "hideHardwareSpecs": false,
    "memoryGiB": 4,
    "name": "ml.t3.medium",
    "vcpuNum": 2
   },
   {
    "_defaultOrder": 1,
    "_isFastLaunch": false,
    "category": "General purpose",
    "gpuNum": 0,
    "hideHardwareSpecs": false,
    "memoryGiB": 8,
    "name": "ml.t3.large",
    "vcpuNum": 2
   },
   {
    "_defaultOrder": 2,
    "_isFastLaunch": false,
    "category": "General purpose",
    "gpuNum": 0,
    "hideHardwareSpecs": false,
    "memoryGiB": 16,
    "name": "ml.t3.xlarge",
    "vcpuNum": 4
   },
   {
    "_defaultOrder": 3,
    "_isFastLaunch": false,
    "category": "General purpose",
    "gpuNum": 0,
    "hideHardwareSpecs": false,
    "memoryGiB": 32,
    "name": "ml.t3.2xlarge",
    "vcpuNum": 8
   },
   {
    "_defaultOrder": 4,
    "_isFastLaunch": true,
    "category": "General purpose",
    "gpuNum": 0,
    "hideHardwareSpecs": false,
    "memoryGiB": 8,
    "name": "ml.m5.large",
    "vcpuNum": 2
   },
   {
    "_defaultOrder": 5,
    "_isFastLaunch": false,
    "category": "General purpose",
    "gpuNum": 0,
    "hideHardwareSpecs": false,
    "memoryGiB": 16,
    "name": "ml.m5.xlarge",
    "vcpuNum": 4
   },
   {
    "_defaultOrder": 6,
    "_isFastLaunch": false,
    "category": "General purpose",
    "gpuNum": 0,
    "hideHardwareSpecs": false,
    "memoryGiB": 32,
    "name": "ml.m5.2xlarge",
    "vcpuNum": 8
   },
   {
    "_defaultOrder": 7,
    "_isFastLaunch": false,
    "category": "General purpose",
    "gpuNum": 0,
    "hideHardwareSpecs": false,
    "memoryGiB": 64,
    "name": "ml.m5.4xlarge",
    "vcpuNum": 16
   },
   {
    "_defaultOrder": 8,
    "_isFastLaunch": false,
    "category": "General purpose",
    "gpuNum": 0,
    "hideHardwareSpecs": false,
    "memoryGiB": 128,
    "name": "ml.m5.8xlarge",
    "vcpuNum": 32
   },
   {
    "_defaultOrder": 9,
    "_isFastLaunch": false,
    "category": "General purpose",
    "gpuNum": 0,
    "hideHardwareSpecs": false,
    "memoryGiB": 192,
    "name": "ml.m5.12xlarge",
    "vcpuNum": 48
   },
   {
    "_defaultOrder": 10,
    "_isFastLaunch": false,
    "category": "General purpose",
    "gpuNum": 0,
    "hideHardwareSpecs": false,
    "memoryGiB": 256,
    "name": "ml.m5.16xlarge",
    "vcpuNum": 64
   },
   {
    "_defaultOrder": 11,
    "_isFastLaunch": false,
    "category": "General purpose",
    "gpuNum": 0,
    "hideHardwareSpecs": false,
    "memoryGiB": 384,
    "name": "ml.m5.24xlarge",
    "vcpuNum": 96
   },
   {
    "_defaultOrder": 12,
    "_isFastLaunch": false,
    "category": "General purpose",
    "gpuNum": 0,
    "hideHardwareSpecs": false,
    "memoryGiB": 8,
    "name": "ml.m5d.large",
    "vcpuNum": 2
   },
   {
    "_defaultOrder": 13,
    "_isFastLaunch": false,
    "category": "General purpose",
    "gpuNum": 0,
    "hideHardwareSpecs": false,
    "memoryGiB": 16,
    "name": "ml.m5d.xlarge",
    "vcpuNum": 4
   },
   {
    "_defaultOrder": 14,
    "_isFastLaunch": false,
    "category": "General purpose",
    "gpuNum": 0,
    "hideHardwareSpecs": false,
    "memoryGiB": 32,
    "name": "ml.m5d.2xlarge",
    "vcpuNum": 8
   },
   {
    "_defaultOrder": 15,
    "_isFastLaunch": false,
    "category": "General purpose",
    "gpuNum": 0,
    "hideHardwareSpecs": false,
    "memoryGiB": 64,
    "name": "ml.m5d.4xlarge",
    "vcpuNum": 16
   },
   {
    "_defaultOrder": 16,
    "_isFastLaunch": false,
    "category": "General purpose",
    "gpuNum": 0,
    "hideHardwareSpecs": false,
    "memoryGiB": 128,
    "name": "ml.m5d.8xlarge",
    "vcpuNum": 32
   },
   {
    "_defaultOrder": 17,
    "_isFastLaunch": false,
    "category": "General purpose",
    "gpuNum": 0,
    "hideHardwareSpecs": false,
    "memoryGiB": 192,
    "name": "ml.m5d.12xlarge",
    "vcpuNum": 48
   },
   {
    "_defaultOrder": 18,
    "_isFastLaunch": false,
    "category": "General purpose",
    "gpuNum": 0,
    "hideHardwareSpecs": false,
    "memoryGiB": 256,
    "name": "ml.m5d.16xlarge",
    "vcpuNum": 64
   },
   {
    "_defaultOrder": 19,
    "_isFastLaunch": false,
    "category": "General purpose",
    "gpuNum": 0,
    "hideHardwareSpecs": false,
    "memoryGiB": 384,
    "name": "ml.m5d.24xlarge",
    "vcpuNum": 96
   },
   {
    "_defaultOrder": 20,
    "_isFastLaunch": false,
    "category": "General purpose",
    "gpuNum": 0,
    "hideHardwareSpecs": true,
    "memoryGiB": 0,
    "name": "ml.geospatial.interactive",
    "supportedImageNames": [
     "sagemaker-geospatial-v1-0"
    ],
    "vcpuNum": 0
   },
   {
    "_defaultOrder": 21,
    "_isFastLaunch": true,
    "category": "Compute optimized",
    "gpuNum": 0,
    "hideHardwareSpecs": false,
    "memoryGiB": 4,
    "name": "ml.c5.large",
    "vcpuNum": 2
   },
   {
    "_defaultOrder": 22,
    "_isFastLaunch": false,
    "category": "Compute optimized",
    "gpuNum": 0,
    "hideHardwareSpecs": false,
    "memoryGiB": 8,
    "name": "ml.c5.xlarge",
    "vcpuNum": 4
   },
   {
    "_defaultOrder": 23,
    "_isFastLaunch": false,
    "category": "Compute optimized",
    "gpuNum": 0,
    "hideHardwareSpecs": false,
    "memoryGiB": 16,
    "name": "ml.c5.2xlarge",
    "vcpuNum": 8
   },
   {
    "_defaultOrder": 24,
    "_isFastLaunch": false,
    "category": "Compute optimized",
    "gpuNum": 0,
    "hideHardwareSpecs": false,
    "memoryGiB": 32,
    "name": "ml.c5.4xlarge",
    "vcpuNum": 16
   },
   {
    "_defaultOrder": 25,
    "_isFastLaunch": false,
    "category": "Compute optimized",
    "gpuNum": 0,
    "hideHardwareSpecs": false,
    "memoryGiB": 72,
    "name": "ml.c5.9xlarge",
    "vcpuNum": 36
   },
   {
    "_defaultOrder": 26,
    "_isFastLaunch": false,
    "category": "Compute optimized",
    "gpuNum": 0,
    "hideHardwareSpecs": false,
    "memoryGiB": 96,
    "name": "ml.c5.12xlarge",
    "vcpuNum": 48
   },
   {
    "_defaultOrder": 27,
    "_isFastLaunch": false,
    "category": "Compute optimized",
    "gpuNum": 0,
    "hideHardwareSpecs": false,
    "memoryGiB": 144,
    "name": "ml.c5.18xlarge",
    "vcpuNum": 72
   },
   {
    "_defaultOrder": 28,
    "_isFastLaunch": false,
    "category": "Compute optimized",
    "gpuNum": 0,
    "hideHardwareSpecs": false,
    "memoryGiB": 192,
    "name": "ml.c5.24xlarge",
    "vcpuNum": 96
   },
   {
    "_defaultOrder": 29,
    "_isFastLaunch": true,
    "category": "Accelerated computing",
    "gpuNum": 1,
    "hideHardwareSpecs": false,
    "memoryGiB": 16,
    "name": "ml.g4dn.xlarge",
    "vcpuNum": 4
   },
   {
    "_defaultOrder": 30,
    "_isFastLaunch": false,
    "category": "Accelerated computing",
    "gpuNum": 1,
    "hideHardwareSpecs": false,
    "memoryGiB": 32,
    "name": "ml.g4dn.2xlarge",
    "vcpuNum": 8
   },
   {
    "_defaultOrder": 31,
    "_isFastLaunch": false,
    "category": "Accelerated computing",
    "gpuNum": 1,
    "hideHardwareSpecs": false,
    "memoryGiB": 64,
    "name": "ml.g4dn.4xlarge",
    "vcpuNum": 16
   },
   {
    "_defaultOrder": 32,
    "_isFastLaunch": false,
    "category": "Accelerated computing",
    "gpuNum": 1,
    "hideHardwareSpecs": false,
    "memoryGiB": 128,
    "name": "ml.g4dn.8xlarge",
    "vcpuNum": 32
   },
   {
    "_defaultOrder": 33,
    "_isFastLaunch": false,
    "category": "Accelerated computing",
    "gpuNum": 4,
    "hideHardwareSpecs": false,
    "memoryGiB": 192,
    "name": "ml.g4dn.12xlarge",
    "vcpuNum": 48
   },
   {
    "_defaultOrder": 34,
    "_isFastLaunch": false,
    "category": "Accelerated computing",
    "gpuNum": 1,
    "hideHardwareSpecs": false,
    "memoryGiB": 256,
    "name": "ml.g4dn.16xlarge",
    "vcpuNum": 64
   },
   {
    "_defaultOrder": 35,
    "_isFastLaunch": false,
    "category": "Accelerated computing",
    "gpuNum": 1,
    "hideHardwareSpecs": false,
    "memoryGiB": 61,
    "name": "ml.p3.2xlarge",
    "vcpuNum": 8
   },
   {
    "_defaultOrder": 36,
    "_isFastLaunch": false,
    "category": "Accelerated computing",
    "gpuNum": 4,
    "hideHardwareSpecs": false,
    "memoryGiB": 244,
    "name": "ml.p3.8xlarge",
    "vcpuNum": 32
   },
   {
    "_defaultOrder": 37,
    "_isFastLaunch": false,
    "category": "Accelerated computing",
    "gpuNum": 8,
    "hideHardwareSpecs": false,
    "memoryGiB": 488,
    "name": "ml.p3.16xlarge",
    "vcpuNum": 64
   },
   {
    "_defaultOrder": 38,
    "_isFastLaunch": false,
    "category": "Accelerated computing",
    "gpuNum": 8,
    "hideHardwareSpecs": false,
    "memoryGiB": 768,
    "name": "ml.p3dn.24xlarge",
    "vcpuNum": 96
   },
   {
    "_defaultOrder": 39,
    "_isFastLaunch": false,
    "category": "Memory Optimized",
    "gpuNum": 0,
    "hideHardwareSpecs": false,
    "memoryGiB": 16,
    "name": "ml.r5.large",
    "vcpuNum": 2
   },
   {
    "_defaultOrder": 40,
    "_isFastLaunch": false,
    "category": "Memory Optimized",
    "gpuNum": 0,
    "hideHardwareSpecs": false,
    "memoryGiB": 32,
    "name": "ml.r5.xlarge",
    "vcpuNum": 4
   },
   {
    "_defaultOrder": 41,
    "_isFastLaunch": false,
    "category": "Memory Optimized",
    "gpuNum": 0,
    "hideHardwareSpecs": false,
    "memoryGiB": 64,
    "name": "ml.r5.2xlarge",
    "vcpuNum": 8
   },
   {
    "_defaultOrder": 42,
    "_isFastLaunch": false,
    "category": "Memory Optimized",
    "gpuNum": 0,
    "hideHardwareSpecs": false,
    "memoryGiB": 128,
    "name": "ml.r5.4xlarge",
    "vcpuNum": 16
   },
   {
    "_defaultOrder": 43,
    "_isFastLaunch": false,
    "category": "Memory Optimized",
    "gpuNum": 0,
    "hideHardwareSpecs": false,
    "memoryGiB": 256,
    "name": "ml.r5.8xlarge",
    "vcpuNum": 32
   },
   {
    "_defaultOrder": 44,
    "_isFastLaunch": false,
    "category": "Memory Optimized",
    "gpuNum": 0,
    "hideHardwareSpecs": false,
    "memoryGiB": 384,
    "name": "ml.r5.12xlarge",
    "vcpuNum": 48
   },
   {
    "_defaultOrder": 45,
    "_isFastLaunch": false,
    "category": "Memory Optimized",
    "gpuNum": 0,
    "hideHardwareSpecs": false,
    "memoryGiB": 512,
    "name": "ml.r5.16xlarge",
    "vcpuNum": 64
   },
   {
    "_defaultOrder": 46,
    "_isFastLaunch": false,
    "category": "Memory Optimized",
    "gpuNum": 0,
    "hideHardwareSpecs": false,
    "memoryGiB": 768,
    "name": "ml.r5.24xlarge",
    "vcpuNum": 96
   },
   {
    "_defaultOrder": 47,
    "_isFastLaunch": false,
    "category": "Accelerated computing",
    "gpuNum": 1,
    "hideHardwareSpecs": false,
    "memoryGiB": 16,
    "name": "ml.g5.xlarge",
    "vcpuNum": 4
   },
   {
    "_defaultOrder": 48,
    "_isFastLaunch": false,
    "category": "Accelerated computing",
    "gpuNum": 1,
    "hideHardwareSpecs": false,
    "memoryGiB": 32,
    "name": "ml.g5.2xlarge",
    "vcpuNum": 8
   },
   {
    "_defaultOrder": 49,
    "_isFastLaunch": false,
    "category": "Accelerated computing",
    "gpuNum": 1,
    "hideHardwareSpecs": false,
    "memoryGiB": 64,
    "name": "ml.g5.4xlarge",
    "vcpuNum": 16
   },
   {
    "_defaultOrder": 50,
    "_isFastLaunch": false,
    "category": "Accelerated computing",
    "gpuNum": 1,
    "hideHardwareSpecs": false,
    "memoryGiB": 128,
    "name": "ml.g5.8xlarge",
    "vcpuNum": 32
   },
   {
    "_defaultOrder": 51,
    "_isFastLaunch": false,
    "category": "Accelerated computing",
    "gpuNum": 1,
    "hideHardwareSpecs": false,
    "memoryGiB": 256,
    "name": "ml.g5.16xlarge",
    "vcpuNum": 64
   },
   {
    "_defaultOrder": 52,
    "_isFastLaunch": false,
    "category": "Accelerated computing",
    "gpuNum": 4,
    "hideHardwareSpecs": false,
    "memoryGiB": 192,
    "name": "ml.g5.12xlarge",
    "vcpuNum": 48
   },
   {
    "_defaultOrder": 53,
    "_isFastLaunch": false,
    "category": "Accelerated computing",
    "gpuNum": 4,
    "hideHardwareSpecs": false,
    "memoryGiB": 384,
    "name": "ml.g5.24xlarge",
    "vcpuNum": 96
   },
   {
    "_defaultOrder": 54,
    "_isFastLaunch": false,
    "category": "Accelerated computing",
    "gpuNum": 8,
    "hideHardwareSpecs": false,
    "memoryGiB": 768,
    "name": "ml.g5.48xlarge",
    "vcpuNum": 192
   },
   {
    "_defaultOrder": 55,
    "_isFastLaunch": false,
    "category": "Accelerated computing",
    "gpuNum": 8,
    "hideHardwareSpecs": false,
    "memoryGiB": 1152,
    "name": "ml.p4d.24xlarge",
    "vcpuNum": 96
   },
   {
    "_defaultOrder": 56,
    "_isFastLaunch": false,
    "category": "Accelerated computing",
    "gpuNum": 8,
    "hideHardwareSpecs": false,
    "memoryGiB": 1152,
    "name": "ml.p4de.24xlarge",
    "vcpuNum": 96
   }
  ],
  "instance_type": "ml.m5.24xlarge",
  "kernelspec": {
   "display_name": "Python 3 (PyTorch 2.0.0 Python 3.10 GPU Optimized)",
   "language": "python",
   "name": "python3__SAGEMAKER_INTERNAL__arn:aws:sagemaker:eu-central-1:936697816551:image/pytorch-2.0.0-gpu-py310"
  },
  "language_info": {
   "codemirror_mode": {
    "name": "ipython",
    "version": 3
   },
   "file_extension": ".py",
   "mimetype": "text/x-python",
   "name": "python",
   "nbconvert_exporter": "python",
   "pygments_lexer": "ipython3",
   "version": "3.10.8"
  }
 },
 "nbformat": 4,
 "nbformat_minor": 5
}
